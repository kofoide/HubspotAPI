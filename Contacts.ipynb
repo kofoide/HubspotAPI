{
 "cells": [
  {
   "cell_type": "code",
   "execution_count": null,
   "metadata": {
    "collapsed": true
   },
   "outputs": [],
   "source": [
    "import requests, configparser, json, os"
   ]
  },
  {
   "cell_type": "code",
   "execution_count": null,
   "metadata": {
    "collapsed": false
   },
   "outputs": [],
   "source": [
    "parser = configparser.ConfigParser()\n",
    "\n",
    "if os.name == \"posix\":\n",
    "    parser.read(u'../config.ini')\n",
    "else:\n",
    "    parser.read(u\"..\\config.ini\")"
   ]
  },
  {
   "cell_type": "code",
   "execution_count": null,
   "metadata": {
    "collapsed": false
   },
   "outputs": [],
   "source": [
    "key =  parser.get('Hubspot', 'APIKEY')\n",
    "apiKey = \"?hapikey=\" + key\n",
    "limit = \"&limit=1000\"\n",
    "firstParm = apiKey + limit\n",
    "baseURL = \"https://api.hubapi.com\"\n",
    "runningCallCount = 0\n",
    "\n",
    "headers = {\"content-type\": \"application/json\"}"
   ]
  },
  {
   "cell_type": "code",
   "execution_count": null,
   "metadata": {
    "collapsed": true
   },
   "outputs": [],
   "source": [
    "email = \"eric@test.com\""
   ]
  },
  {
   "cell_type": "markdown",
   "metadata": {},
   "source": [
    "## Add New Contact"
   ]
  },
  {
   "cell_type": "code",
   "execution_count": null,
   "metadata": {
    "collapsed": false
   },
   "outputs": [],
   "source": [
    "callURL = \"/contacts/v1/contact/createOrUpdate/email/%s/\" & email\n",
    "url = baseURL + callURL + apiKey"
   ]
  },
  {
   "cell_type": "code",
   "execution_count": null,
   "metadata": {
    "collapsed": false
   },
   "outputs": [],
   "source": [
    "data = {\"properties\": \n",
    " [\n",
    "    {\n",
    "        \"property\": \"email\",\n",
    "        \"value\": \"eric@test.com\"\n",
    "    },\n",
    "    {\n",
    "        \"property\": \"firstname\",\n",
    "        \"value\": \"TestFirst\"\n",
    "    },\n",
    "    {\n",
    "        \"property\": \"lastname\",\n",
    "        \"value\": \"TestLast\"\n",
    "    },\n",
    "    {\n",
    "        \"property\": \"website\",\n",
    "        \"value\": \"http://hubspot.com\"\n",
    "    },\n",
    "    {\n",
    "        \"property\": \"company\",\n",
    "        \"value\": \"Test Company\"\n",
    "    },\n",
    "    {\n",
    "        \"property\": \"phone\",\n",
    "        \"value\": \"555-122-2323\"\n",
    "    },\n",
    "    {\n",
    "        \"property\": \"address\",\n",
    "        \"value\": \"25 First Street\"\n",
    "    },\n",
    "    {\n",
    "        \"property\": \"city\",\n",
    "        \"value\": \"Nocity\"\n",
    "    },\n",
    "    {\n",
    "        \"property\": \"state\",\n",
    "        \"value\": \"KS\"\n",
    "    },\n",
    "    {\n",
    "        \"property\": \"zip\",\n",
    "        \"value\": \"00000\"\n",
    "    }\n",
    " ]\n",
    "}"
   ]
  },
  {
   "cell_type": "markdown",
   "metadata": {},
   "source": [
    "### Call CreateOrUpdate API\n",
    "Expecting a 200 response"
   ]
  },
  {
   "cell_type": "code",
   "execution_count": null,
   "metadata": {
    "collapsed": false
   },
   "outputs": [],
   "source": [
    "responseForCreateUpdate = requests.post(url, data=json.dumps(data), headers=headers)\n",
    "responseForCreateUpdate.status_code"
   ]
  },
  {
   "cell_type": "code",
   "execution_count": null,
   "metadata": {
    "collapsed": true
   },
   "outputs": [],
   "source": []
  },
  {
   "cell_type": "code",
   "execution_count": null,
   "metadata": {
    "collapsed": false
   },
   "outputs": [],
   "source": [
    "vid = responseForCreateUpdate.json()['vid']\n",
    "print vid"
   ]
  },
  {
   "cell_type": "code",
   "execution_count": null,
   "metadata": {
    "collapsed": true
   },
   "outputs": [],
   "source": []
  },
  {
   "cell_type": "markdown",
   "metadata": {},
   "source": [
    "## Look for Contact by email\n",
    "* 200 status means contact was found\n",
    "* 404 status means contact not found"
   ]
  },
  {
   "cell_type": "code",
   "execution_count": null,
   "metadata": {
    "collapsed": false
   },
   "outputs": [],
   "source": [
    "callURL = \"/contacts/v1/contact/email/%s/profile\" % email\n",
    "url = baseURL + callURL + apiKey\n",
    "\n",
    "response = requests.get(url)\n",
    "response.json()"
   ]
  },
  {
   "cell_type": "code",
   "execution_count": null,
   "metadata": {
    "collapsed": false
   },
   "outputs": [],
   "source": [
    "response.status_code"
   ]
  },
  {
   "cell_type": "markdown",
   "metadata": {},
   "source": [
    "## Look for Contact by vid"
   ]
  },
  {
   "cell_type": "code",
   "execution_count": null,
   "metadata": {
    "collapsed": false
   },
   "outputs": [],
   "source": [
    "callURL = \"/contacts/v1/contact/vid/%d/profile\" % vid\n",
    "url = baseURL + callURL + apiKey\n",
    "\n",
    "response = requests.get(url)\n",
    "response.json()"
   ]
  },
  {
   "cell_type": "markdown",
   "metadata": {},
   "source": [
    "## Update properties on Contact by vid"
   ]
  },
  {
   "cell_type": "code",
   "execution_count": null,
   "metadata": {
    "collapsed": true
   },
   "outputs": [],
   "source": [
    "updatedata = {\n",
    "    \"properties\": [\n",
    "      {\n",
    "          \"property\": \"firstname\",\n",
    "           \"value\": \"FirstTest3\"\n",
    "      },\n",
    "      {\n",
    "          \"property\": \"lastname\",\n",
    "           \"value\": \"LastTest3\"\n",
    "      }\n",
    "  ]\n",
    " }"
   ]
  },
  {
   "cell_type": "code",
   "execution_count": null,
   "metadata": {
    "collapsed": false
   },
   "outputs": [],
   "source": [
    "callURL = \"/contacts/v1/contact/vid/%d/profile\" % vid\n",
    "url = baseURL + callURL + apiKey"
   ]
  },
  {
   "cell_type": "code",
   "execution_count": null,
   "metadata": {
    "collapsed": false
   },
   "outputs": [],
   "source": [
    "response = requests.post(url, data=json.dumps(updatedata), headers=headers)\n",
    "response.status_code"
   ]
  },
  {
   "cell_type": "code",
   "execution_count": null,
   "metadata": {
    "collapsed": true
   },
   "outputs": [],
   "source": []
  }
 ],
 "metadata": {
  "kernelspec": {
   "display_name": "Python 2",
   "language": "python",
   "name": "python2"
  },
  "language_info": {
   "codemirror_mode": {
    "name": "ipython",
    "version": 2
   },
   "file_extension": ".py",
   "mimetype": "text/x-python",
   "name": "python",
   "nbconvert_exporter": "python",
   "pygments_lexer": "ipython2",
   "version": "2.7.12"
  }
 },
 "nbformat": 4,
 "nbformat_minor": 2
}
