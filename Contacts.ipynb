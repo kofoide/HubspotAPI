{
 "cells": [
  {
   "cell_type": "code",
   "execution_count": null,
   "metadata": {
    "collapsed": true
   },
   "outputs": [],
   "source": [
    "import requests\n",
    "import configparser, json"
   ]
  },
  {
   "cell_type": "code",
   "execution_count": null,
   "metadata": {
    "collapsed": false
   },
   "outputs": [],
   "source": [
    "parser = configparser.ConfigParser()\n",
    "\n",
    "if os.name == \"posix\":\n",
    "    parser.read(u'../config.ini')\n",
    "else:\n",
    "    parser.read(u\"..\\config.ini\")"
   ]
  },
  {
   "cell_type": "code",
   "execution_count": null,
   "metadata": {
    "collapsed": false
   },
   "outputs": [],
   "source": [
    "key =  parser.get('Hubspot', 'APIKEY')\n",
    "apiKey = \"?hapikey=\" + key\n",
    "limit = \"&limit=1000\"\n",
    "firstParm = apiKey + limit\n",
    "baseURL = \"https://api.hubapi.com\"\n",
    "runningCallCount = 0"
   ]
  },
  {
   "cell_type": "markdown",
   "metadata": {},
   "source": [
    "## Add New Contact\n",
    "### This isn't working yet"
   ]
  },
  {
   "cell_type": "code",
   "execution_count": null,
   "metadata": {
    "collapsed": false
   },
   "outputs": [],
   "source": [
    "callURL = \"/contacts/v1/contact/batch/\"\n",
    "url = baseURL + callURL + apiKey"
   ]
  },
  {
   "cell_type": "code",
   "execution_count": null,
   "metadata": {
    "collapsed": true
   },
   "outputs": [],
   "source": [
    "data = \n",
    "[\n",
    "    {\n",
    "        \"email\": \"test@test.com\",\n",
    "        \"properties\": [\n",
    "            {\n",
    "                \"property\": \"firstname\",\n",
    "                \"value\": \"TestFirst\"\n",
    "            },\n",
    "            {\n",
    "                \"property\": \"lastname\",\n",
    "                \"value\": \"TestLast\"\n",
    "            },\n",
    "            {\n",
    "                \"property\": \"website\",\n",
    "                \"value\": \"http://hubspot.com\"\n",
    "            },\n",
    "            {\n",
    "                \"property\": \"company\",\n",
    "                \"value\": \"Test Company\"\n",
    "            },\n",
    "            {\n",
    "                \"property\": \"phone\",\n",
    "                \"value\": \"555-122-2323\"\n",
    "            },\n",
    "            {\n",
    "                \"property\": \"address\",\n",
    "                \"value\": \"25 First Street\"\n",
    "            },\n",
    "            {\n",
    "                \"property\": \"city\",\n",
    "                \"value\": \"Nocity\"\n",
    "            },\n",
    "            {\n",
    "                \"property\": \"state\",\n",
    "                \"value\": \"KS\"\n",
    "            },\n",
    "            {\n",
    "                \"property\": \"zip\",\n",
    "                \"value\": \"00000\"\n",
    "            }\n",
    "        ]\n",
    "    }\n",
    "]"
   ]
  },
  {
   "cell_type": "code",
   "execution_count": null,
   "metadata": {
    "collapsed": false
   },
   "outputs": [],
   "source": [
    "headers = {\"Accept\": \"application/json\"}\n",
    "response = requests.post(url, data=data, headers=headers)\n",
    "response.status_code"
   ]
  },
  {
   "cell_type": "markdown",
   "metadata": {},
   "source": [
    "## Look for Contact"
   ]
  },
  {
   "cell_type": "code",
   "execution_count": null,
   "metadata": {
    "collapsed": false
   },
   "outputs": [],
   "source": [
    "callURL = \"/contacts/v1/contact/email/test@test.com/profile\"\n",
    "url = baseURL + callURL + apiKey\n",
    "\n",
    "response = requests.get(url)\n",
    "response.json()"
   ]
  },
  {
   "cell_type": "markdown",
   "metadata": {},
   "source": [
    "## Update properties on Contact"
   ]
  },
  {
   "cell_type": "code",
   "execution_count": null,
   "metadata": {
    "collapsed": true
   },
   "outputs": [],
   "source": [
    "callURL = \"/contacts/v1/contact/vid/57132764/profile\"\n",
    "url = baseURL + callURL + apiKey"
   ]
  },
  {
   "cell_type": "code",
   "execution_count": null,
   "metadata": {
    "collapsed": true
   },
   "outputs": [],
   "source": [
    "data = {\"properties\": [{\"property\": \"firstname\",\"value\": \"FirstTest3\"},{\"property\": \"lastname\",\"value\": \"LastTest3\"}]}\n",
    "data_json = json.dumps(data)\n",
    "headers = {'Content-type': 'application/json'}\n",
    "\n",
    "response = requests.post(url, json=data, headers=headers)\n",
    "response.status_code"
   ]
  }
 ],
 "metadata": {
  "kernelspec": {
   "display_name": "Python 2",
   "language": "python",
   "name": "python2"
  },
  "language_info": {
   "codemirror_mode": {
    "name": "ipython",
    "version": 2
   },
   "file_extension": ".py",
   "mimetype": "text/x-python",
   "name": "python",
   "nbconvert_exporter": "python",
   "pygments_lexer": "ipython2",
   "version": "2.7.12"
  }
 },
 "nbformat": 4,
 "nbformat_minor": 2
}
