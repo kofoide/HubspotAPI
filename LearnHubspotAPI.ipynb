{
 "cells": [
  {
   "cell_type": "markdown",
   "metadata": {},
   "source": [
    "# Download Email Events from Hubspot API\n",
    "\n",
    "This app will download all email events from Hubspot API. It uses Campaign Statistics to decide what timeframe to begin downloading from.\n",
    "\n",
    "Resources:\n",
    "* MSSQL - Run DDL in the project against your database\n",
    "* Schema named \"hs\" in database\n",
    "\n",
    "Put the event types you want to download in the hs.DownloadableEventType table"
   ]
  },
  {
   "cell_type": "code",
   "execution_count": null,
   "metadata": {
    "collapsed": false
   },
   "outputs": [],
   "source": [
    "import requests, json, time\n",
    "import pandas as pd\n",
    "import sqlalchemy\n",
    "import pyodbc as odbc\n",
    "#import pymssql\n",
    "import os\n",
    "import configparser, json"
   ]
  },
  {
   "cell_type": "code",
   "execution_count": null,
   "metadata": {
    "collapsed": false
   },
   "outputs": [],
   "source": [
    "parser = configparser.ConfigParser()\n",
    "if os.name == \"posix\":\n",
    "    parser.read(u'../../config.ini')\n",
    "else:\n",
    "    parser.read(u\"..\\..\\config.ini\")"
   ]
  },
  {
   "cell_type": "code",
   "execution_count": null,
   "metadata": {
    "collapsed": false
   },
   "outputs": [],
   "source": [
    "# sqlalchemy connection to the hubspot database\n",
    "engineString = parser.get('Hubspot', 'ProdDSNConnSA')\n",
    "print engineString"
   ]
  },
  {
   "cell_type": "code",
   "execution_count": null,
   "metadata": {
    "collapsed": true
   },
   "outputs": [],
   "source": [
    "key =  parser.get('Hubspot', 'APIKEY')\n",
    "apiKey = \"?hapikey=\" + key\n",
    "limit = \"&limit=1000\"\n",
    "firstParm = apiKey + limit\n",
    "baseURL = \"https://api.hubapi.com\"\n",
    "runningCallCount = 0"
   ]
  },
  {
   "cell_type": "code",
   "execution_count": null,
   "metadata": {
    "collapsed": false
   },
   "outputs": [],
   "source": [
    "meta_engine = sqlalchemy.create_engine(engineString)\n",
    "\n",
    "## Test the connection\n",
    "#connection = meta_engine.connect()\n",
    "#result = connection.execute(\"SELECT @@ServerName ServerName, DB_NAME() AS DatabaseName\")\n",
    "#for row in result:\n",
    "#    print row['ServerName']\n",
    "#    print row['DatabaseName']"
   ]
  },
  {
   "cell_type": "code",
   "execution_count": null,
   "metadata": {
    "collapsed": false
   },
   "outputs": [],
   "source": [
    "# pyodbc connection to the analytics database\n",
    "connString = parser.get('Hubspot', 'ProdDSNConn')\n",
    "\n",
    "conn = odbc.connect(connString, autocommit=True)\n",
    "curs = conn.cursor()\n",
    "\n",
    "## Test connection\n",
    "#curs.execute(\"SELECT @@ServerName AS ServerName, DB_NAME() AS DatabaseName\")\n",
    "#print curs.fetchone()"
   ]
  },
  {
   "cell_type": "markdown",
   "metadata": {},
   "source": [
    "## Database table structures\n",
    "Pandas uses these dictionaries to know how to put the data into the database"
   ]
  },
  {
   "cell_type": "code",
   "execution_count": null,
   "metadata": {
    "collapsed": false
   },
   "outputs": [],
   "source": [
    "columnsCampaignStatistics = {\n",
    "      'appId': sqlalchemy.types.INTEGER()\n",
    "    , 'appName': sqlalchemy.types.VARCHAR(length=255)\n",
    "    , 'bounce': sqlalchemy.types.INTEGER()\n",
    "    , 'campaignId': sqlalchemy.types.INTEGER()\n",
    "    , 'campaignName': sqlalchemy.types.VARCHAR(length=255)\n",
    "    , 'click': sqlalchemy.types.INTEGER()\n",
    "    , 'deferred': sqlalchemy.types.INTEGER()\n",
    "    , 'delivered': sqlalchemy.types.INTEGER()\n",
    "    , 'dropped': sqlalchemy.types.INTEGER()\n",
    "    , 'forward': sqlalchemy.types.INTEGER()\n",
    "    , 'lastUpdatedTime': sqlalchemy.types.BIGINT()\n",
    "    , 'mta_dropped': sqlalchemy.types.INTEGER()\n",
    "    , 'numIncluded': sqlalchemy.types.INTEGER()\n",
    "    , 'numQueued': sqlalchemy.types.INTEGER()\n",
    "    , 'open': sqlalchemy.types.INTEGER()\n",
    "    , 'print': sqlalchemy.types.INTEGER()\n",
    "    , 'processed': sqlalchemy.types.INTEGER()\n",
    "    , 'processingState': sqlalchemy.types.VARCHAR(length=255)\n",
    "    , 'sent': sqlalchemy.types.INTEGER()\n",
    "    , 'spamreport': sqlalchemy.types.INTEGER()\n",
    "    , 'statuschange': sqlalchemy.types.INTEGER()\n",
    "    , 'subject': sqlalchemy.types.VARCHAR(length=255)\n",
    "    , 'type': sqlalchemy.types.VARCHAR(length=255)\n",
    "    , 'unsubscribed': sqlalchemy.types.INTEGER()\n",
    "}\n",
    "\n",
    "columnsCampaignStatisticsHistory = {\n",
    "      'RunID': sqlalchemy.types.INTEGER()\n",
    "    , 'appId': sqlalchemy.types.INTEGER()\n",
    "    , 'appName': sqlalchemy.types.VARCHAR(length=255)\n",
    "    , 'bounce': sqlalchemy.types.INTEGER()\n",
    "    , 'campaignId': sqlalchemy.types.INTEGER()\n",
    "    , 'campaignName': sqlalchemy.types.VARCHAR(length=255)\n",
    "    , 'click': sqlalchemy.types.INTEGER()\n",
    "    , 'deferred': sqlalchemy.types.INTEGER()\n",
    "    , 'delivered': sqlalchemy.types.INTEGER()\n",
    "    , 'dropped': sqlalchemy.types.INTEGER()\n",
    "    , 'forward': sqlalchemy.types.INTEGER()\n",
    "    , 'lastUpdatedTime': sqlalchemy.types.BIGINT()\n",
    "    , 'mta_dropped': sqlalchemy.types.INTEGER()\n",
    "    , 'numIncluded': sqlalchemy.types.INTEGER()\n",
    "    , 'numQueued': sqlalchemy.types.INTEGER()\n",
    "    , 'open': sqlalchemy.types.INTEGER()\n",
    "    , 'print': sqlalchemy.types.INTEGER()\n",
    "    , 'processed': sqlalchemy.types.INTEGER()\n",
    "    , 'processingState': sqlalchemy.types.VARCHAR(length=255)\n",
    "    , 'sent': sqlalchemy.types.INTEGER()\n",
    "    , 'spamreport': sqlalchemy.types.INTEGER()\n",
    "    , 'statuschange': sqlalchemy.types.INTEGER()\n",
    "    , 'subject': sqlalchemy.types.VARCHAR(length=255)\n",
    "    , 'type': sqlalchemy.types.VARCHAR(length=255)\n",
    "    , 'unsubscribed': sqlalchemy.types.INTEGER()\n",
    "}\n",
    "\n",
    "columnsEmailEvent = {\n",
    "      'RunID': sqlalchemy.types.INTEGER()\n",
    "    , 'appId': sqlalchemy.types.INTEGER()\n",
    "    , 'created': sqlalchemy.types.BIGINT()\n",
    "    , 'deviceType': sqlalchemy.types.VARCHAR(length=255)\n",
    "    , 'emailCampaignId': sqlalchemy.types.INTEGER()\n",
    "    , 'recipient': sqlalchemy.types.VARCHAR(length=255)\n",
    "    , 'type': sqlalchemy.types.VARCHAR(length=255)\n",
    "    , 'country': sqlalchemy.types.VARCHAR(length=255)\n",
    "    , 'state': sqlalchemy.types.VARCHAR(length=255)\n",
    "    , 'city': sqlalchemy.types.VARCHAR(length=255)\n",
    "    , 'duration': sqlalchemy.types.INTEGER()\n",
    "    , 'browser': sqlalchemy.types.VARCHAR(length=255)\n",
    "}"
   ]
  },
  {
   "cell_type": "markdown",
   "metadata": {},
   "source": [
    "## Helper Functions"
   ]
  },
  {
   "cell_type": "code",
   "execution_count": null,
   "metadata": {
    "collapsed": false
   },
   "outputs": [],
   "source": [
    "# push pandas dataframe to database\n",
    "def pushDFToDB(df, tablename):\n",
    "    df.to_sql(tablename, meta_engine, index=False, if_exists='append')\n",
    "\n",
    "# push dictionary into pandas dataframe\n",
    "def dictToDF(dict):\n",
    "    return pd.DataFrame.from_dict(dict, orient='columns', dtype=None)\n",
    "\n",
    "# parse the Epoch into a real date\n",
    "def parseDate(datenum):\n",
    "    return time.localtime(round(int(datenum/1000)))\n",
    "\n",
    "def stringifyDate(thisDate):\n",
    "    return time.strftime(\"%a, %d %b %Y %H:%M:%S\", thisDate)\n",
    "\n",
    "# parse Single Campaign Statistics from the json received from Hubspot\n",
    "def parseSingleCampaignStatistics(r):\n",
    "    row = {}\n",
    "    \n",
    "    row[u'appId'] = r['appId']\n",
    "        \n",
    "    row[u'campaignId'] = r['id']\n",
    "    \n",
    "    row[u'lastUpdatedTime'] = r['lastUpdatedTime']\n",
    "\n",
    "    if 'name' in r:\n",
    "        row[u'campaignName'] = r['name']\n",
    "    else:\n",
    "        row[u'campaignName'] = ''\n",
    "    \n",
    "    if 'appName' in r:\n",
    "        row[u'appName'] = r['appName']\n",
    "    else:\n",
    "        row[u'appName'] = ''\n",
    "        \n",
    "    if 'numIncluded' in r:\n",
    "        row[u'numIncluded'] = r['numIncluded']\n",
    "    else:\n",
    "        row[u'numIncluded'] = 0\n",
    "    \n",
    "    if 'numQueued' in r:\n",
    "        row[u'numQueued'] = r['numQueued']\n",
    "    else:\n",
    "        row[u'numQueued'] = 0\n",
    "        \n",
    "    if 'processingState' in r:\n",
    "        row[u'processingState'] = r['processingState']\n",
    "    else:\n",
    "        row[u'processingState'] = ''\n",
    "        \n",
    "    if 'subject' in r:\n",
    "        row[u'subject'] = r['subject']\n",
    "    else:\n",
    "        row[u'subject'] = ''\n",
    "    \n",
    "    if 'type' in r:\n",
    "        row[u'type'] = r['type']\n",
    "    else:\n",
    "        row[u'type'] = ''\n",
    "        \n",
    "    #counters\n",
    "    c = {}\n",
    "    if 'counters' in r:\n",
    "        c = r['counters'] \n",
    "\n",
    "        if 'bounce' in c:\n",
    "            row[u'bounce'] = c['bounce']\n",
    "        else:\n",
    "            row[u'bounce'] = 0\n",
    "\n",
    "        if 'click' in c:\n",
    "            row[u'click'] = c['click']\n",
    "        else:\n",
    "            row[u'click'] = 0\n",
    "\n",
    "        if 'deferred' in c:\n",
    "            row[u'deferred'] = c['deferred']\n",
    "        else:\n",
    "            row[u'deferred'] = 0\n",
    "\n",
    "        if 'delivered' in c:\n",
    "            row[u'delivered'] = c['delivered']\n",
    "        else:\n",
    "            row[u'delivered'] = 0\n",
    "\n",
    "        if 'dropped' in r:\n",
    "            row[u'dropped'] = r['dropped']\n",
    "        else:\n",
    "            row[u'dropped'] = 0\n",
    "\n",
    "        if 'forward' in c:\n",
    "            row[u'forward'] = c['forward']\n",
    "        else:\n",
    "            row[u'forward'] = 0\n",
    "\n",
    "        if 'mta_dropped' in c:\n",
    "            row[u'mta_dropped'] = c['mta_dropped']\n",
    "        else:\n",
    "            row[u'mta_dropped'] = 0\n",
    "\n",
    "        if 'open' in c:\n",
    "            row[u'open'] = c['open']\n",
    "        else:\n",
    "            row[u'open'] = 0\n",
    "\n",
    "        if 'print' in r:\n",
    "            row[u'print'] = r['print']\n",
    "        else:\n",
    "            row[u'print'] = 0\n",
    "\n",
    "        if 'processed' in c:\n",
    "            row[u'processed'] = c['processed']\n",
    "        else:\n",
    "            row[u'processed'] = 0\n",
    "\n",
    "        if 'sent' in c:\n",
    "            row[u'sent'] = c['sent']\n",
    "        else:\n",
    "            row[u'sent'] = 0\n",
    "\n",
    "        if 'spamreport' in c:\n",
    "            row[u'spamreport'] = c['spamreport']\n",
    "        else:\n",
    "            row[u'spamreport'] = 0\n",
    "\n",
    "        if 'statuschange' in c:\n",
    "            row[u'statuschange'] = c['statuschange']\n",
    "        else:\n",
    "            row[u'statuschange'] = 0\n",
    "\n",
    "        if 'unsubscribed' in c:\n",
    "            row[u'unsubscribed'] = c['unsubscribed']\n",
    "        else:\n",
    "            row[u'unsubscribed'] = 0\n",
    "\n",
    "    return row\n",
    "\n",
    "# parse Single Event into dictionary from json received from Hubspot\n",
    "def parseSingleEvent(r):\n",
    "    row = {}\n",
    "    \n",
    "    if 'recipient' in r:\n",
    "        row[u'recipient'] = r['recipient']\n",
    "    else:\n",
    "        row[u'recipient'] = ''\n",
    "    \n",
    "    if 'created' in r:\n",
    "        row[u'created'] = r['created']\n",
    "    else:\n",
    "        row[u'created'] = 0\n",
    "        \n",
    "    if 'emailCampaignId' in r:\n",
    "        row[u'emailCampaignId'] = r['emailCampaignId']\n",
    "    else:\n",
    "        row[u'emailCampaignId'] = 0\n",
    "    \n",
    "    if 'deviceType' in r:\n",
    "        row[u'deviceType'] = r['deviceType']\n",
    "    else:\n",
    "        row[u'deviceType'] = ''\n",
    "        \n",
    "    if 'type' in r:\n",
    "        row[u'type'] = r['type']\n",
    "    else:\n",
    "        row[u'type'] = ''\n",
    "        \n",
    "    if 'appId' in r:\n",
    "        row[u'appId'] = r['appId']\n",
    "    else:\n",
    "        row[u'appId'] = 0\n",
    "        \n",
    "    if 'location' in r:\n",
    "        if 'country' in r['location']:\n",
    "            row[u'country'] = r['location']['country']\n",
    "    else:\n",
    "        row[u'country'] = ''\n",
    "        \n",
    "    if 'location' in r:\n",
    "        if 'state' in r['location']:\n",
    "            row[u'state'] = r['location']['state']\n",
    "    else:\n",
    "        row[u'state'] = ''\n",
    "        \n",
    "    if 'location' in r:\n",
    "        if 'city' in r['location']:\n",
    "            row[u'city'] = r['location']['city']\n",
    "    else:\n",
    "        row[u'city'] = ''\n",
    "        \n",
    "    if 'duration' in r:\n",
    "        row[u'duration'] = r['duration']\n",
    "    else:\n",
    "        row[u'duration'] = 0\n",
    "        \n",
    "    if 'browser' in r:\n",
    "        if 'name' in r['browser']:\n",
    "            row[u'browser'] = r['browser']['name']\n",
    "    else:\n",
    "        row[u'browser'] = ''\n",
    "        \n",
    "    return row"
   ]
  },
  {
   "cell_type": "markdown",
   "metadata": {},
   "source": [
    "# getContactStatistics()\n",
    "\n",
    "* Get Contact Statistics from Hubspot\n",
    "* Returns: Dictionary of Contact Stats"
   ]
  },
  {
   "cell_type": "code",
   "execution_count": null,
   "metadata": {
    "collapsed": false
   },
   "outputs": [],
   "source": [
    "# Get Contact Statistics\n",
    "# Return: Dictionary\n",
    "def getContactStats():\n",
    "    statURL = \"/contacts/v1/contacts/statistics\"\n",
    "    url = baseURL + statURL + apiKey\n",
    "    r = requests.get(url)\n",
    "\n",
    "    return r.json()"
   ]
  },
  {
   "cell_type": "markdown",
   "metadata": {},
   "source": [
    "# getAllCampaignsList()\n",
    "\n",
    "* Get Base List of Campaigns from Hubspot\n",
    "* Returns: Dictionary of All Campaigns"
   ]
  },
  {
   "cell_type": "code",
   "execution_count": null,
   "metadata": {
    "collapsed": false
   },
   "outputs": [],
   "source": [
    "# Get base campaigns\n",
    "# Return: Dictionary\n",
    "\n",
    "def getAllCampaignsList(noisy=False):\n",
    "    # First call to get campaigns\n",
    "    campsURL = \"/email/public/v1/campaigns\"\n",
    "\n",
    "    url = baseURL + campsURL + firstParm\n",
    "    r = requests.get(url)\n",
    "\n",
    "    callCount = 1\n",
    "    d = r.json()['campaigns']\n",
    "\n",
    "    # Subsequent calls to get rest of campaigns\n",
    "    while r.json()['hasMore']:\n",
    "        \n",
    "        if (callCount % 10) == 0:\n",
    "            time.sleep(1)\n",
    "        \n",
    "        offset = r.json()['offset']\n",
    "        nextURL = url + \"&offset=\" + offset\n",
    "        \n",
    "        r = requests.get(nextURL)\n",
    "\n",
    "        callCount = callCount + 1\n",
    "        d = d + r.json()['campaigns']\n",
    "    \n",
    "    if noisy:\n",
    "        print \"Campaign List Call Count: \" + str(counter)\n",
    "    \n",
    "    return d, callCount"
   ]
  },
  {
   "cell_type": "markdown",
   "metadata": {},
   "source": [
    "# getSingleCampaignStatistics()\n",
    "\n",
    "* Get Single Campaign Statistic from Hubspot\n",
    "* Returns: Dictionary of Campaign Metadata"
   ]
  },
  {
   "cell_type": "code",
   "execution_count": null,
   "metadata": {
    "collapsed": false
   },
   "outputs": [],
   "source": [
    "# Get a single campaign's statistics\n",
    "# Return: Dictionary\n",
    "\n",
    "def getSingleCampaignStatistics(camp, noisy=False):\n",
    "    campStatURL = \"/email/public/v1/campaigns/\" + str(camp['id'])\n",
    "    appId = \"&appId=\" + str(camp['appId'])\n",
    "\n",
    "    url = baseURL + campStatURL + apiKey + appId\n",
    "    \n",
    "    r = requests.get(url)\n",
    "    js = r.json()\n",
    "    js['lastUpdatedTime'] = camp['lastUpdatedTime']\n",
    "\n",
    "    parsedCampaign = parseSingleCampaignStatistics(js)\n",
    "    if noisy:\n",
    "        print \"Getting Statistics for \" + parsedCampaign['campaignName']\n",
    "        \n",
    "    return parsedCampaign"
   ]
  },
  {
   "cell_type": "markdown",
   "metadata": {},
   "source": [
    "# getAllCampaignsStatistics()\n",
    "\n",
    "* Get All Campaigns' Statistics from Hubspot\n",
    "* Returns: Dictionary of Campaign Statistics, Number of Calls made"
   ]
  },
  {
   "cell_type": "code",
   "execution_count": null,
   "metadata": {
    "collapsed": false
   },
   "outputs": [],
   "source": [
    "# Get all campaigns metadata\n",
    "# Return: Dictionary\n",
    "\n",
    "def getAllCampaignsStatistics(noisy=False):\n",
    "    camps = []\n",
    "    \n",
    "    campaigns, callCount = getAllCampaignsList(noisy=noisy)\n",
    "    \n",
    "    if noisy:\n",
    "        print \"Number of Campaigns: \" + str(len(campaigns))\n",
    "    \n",
    "    for camp in campaigns:\n",
    "        camps = camps + [getSingleCampaignStatistics(camp)]\n",
    "\n",
    "    callCount = callCount + len(camps)\n",
    "    \n",
    "    return callCount, camps"
   ]
  },
  {
   "cell_type": "markdown",
   "metadata": {},
   "source": [
    "# getCampaignEventsSince()\n",
    "\n",
    "* Get All of a single Campaign's Specific EventTypes since x/x/xxxx\n",
    "* Store results in temporary database table\n",
    "* Returns: Number of Calls Made, Number of Events Downloaded"
   ]
  },
  {
   "cell_type": "code",
   "execution_count": null,
   "metadata": {
    "collapsed": false
   },
   "outputs": [],
   "source": [
    "# Get specific eventType for a sepcific campaign after defined time\n",
    "# Return: Dictionary\n",
    "\n",
    "def getCampaignEventsSince(app, campaign, since, event, identity, noisy=False):\n",
    "   \n",
    "    campEventURL = \"/email/public/v1/events\"\n",
    "    appId = \"&appId=\" + str(app)\n",
    "    campId = \"&campaignId=\" + str(campaign)\n",
    "    timeSince = \"&startTimestamp=\" + str(since)\n",
    "    event = \"&eventType=\" + event\n",
    "\n",
    "    url = baseURL + campEventURL + firstParm + appId + campId + timeSince + event\n",
    "    r = requests.get(url)\n",
    "\n",
    "    callCount = 1\n",
    "    d = r.json()['events']\n",
    "    \n",
    "    events = []\n",
    "    for event in d:\n",
    "        events = events + [parseSingleEvent(event)]\n",
    "    \n",
    "    # Put events in Database\n",
    "    if len(events) > 0:\n",
    "        df = dictToDF(events)\n",
    "        df['RunID'] = identity\n",
    "        \n",
    "        df.to_sql(name=\"EmailEventTemp\"\n",
    "                    , con=meta_engine\n",
    "                    , schema=\"hs\"\n",
    "                    , index=False\n",
    "                    , if_exists='append'\n",
    "                    , dtype=columnsEmailEvent)\n",
    "        \n",
    "    eventCount = len(events)\n",
    "    \n",
    "    # Subsequent calls to get rest of campaigns\n",
    "    while r.json()['hasMore']:\n",
    "        callCount = callCount + 1\n",
    "            \n",
    "        if (callCount % 10) == 0:\n",
    "            time.sleep(1)\n",
    "        \n",
    "        offset = r.json()['offset']\n",
    "        nextURL = url + \"&offset=\" + offset\n",
    "        \n",
    "        r = requests.get(nextURL)\n",
    "\n",
    "        d = r.json()['events']\n",
    "        \n",
    "        events = []\n",
    "        for event in d:\n",
    "            events = events + [parseSingleEvent(event)]\n",
    "        \n",
    "        # Put events in Database\n",
    "        if len(events) > 0:\n",
    "            df = dictToDF(events)\n",
    "            df['RunID'] = identity\n",
    "            \n",
    "            df.to_sql(name=\"EmailEventTemp\"\n",
    "                        , con=meta_engine\n",
    "                        , schema=\"hs\"\n",
    "                        , index=False\n",
    "                        , if_exists='append'\n",
    "                        , dtype=columnsEmailEvent)\n",
    "            \n",
    "            eventCount = eventCount + len(events)\n",
    "    \n",
    "    return callCount, eventCount"
   ]
  },
  {
   "cell_type": "markdown",
   "metadata": {},
   "source": [
    "# getNewEvents\n",
    "* Gets events for all campaigns\n",
    "\n",
    "\n",
    "This is where the real work is done\n",
    "First have to figure out what campaigns and events we want to download\n",
    "Then have to figure out when the last time we downloaded so that we don't get data we have already downloaded"
   ]
  },
  {
   "cell_type": "code",
   "execution_count": null,
   "metadata": {
    "collapsed": false,
    "scrolled": true
   },
   "outputs": [],
   "source": [
    "def getNewEvents(eventType, identity):\n",
    "\n",
    "    # Get stats for this event\n",
    "    sql = \"SELECT * FROM hs.RunStatistics WHERE eventType = '%s'\" % eventType\n",
    "    campaigns = pd.read_sql(sql, meta_engine)\n",
    "\n",
    "    totalEventCount = 0\n",
    "\n",
    "    curs.execute(\"TRUNCATE TABLE hs.EmailEventTemp\")\n",
    "\n",
    "    # loop through the campaigns for this eventType\n",
    "    for index, row in campaigns.iterrows():\n",
    "        numCalls, eventCount = getCampaignEventsSince(row['appId']\n",
    "                                                    , row['campaignId']\n",
    "                                                    , row['lastUpdatedTime']\n",
    "                                                    , row['eventType']\n",
    "                                                    , identity)\n",
    "\n",
    "        output = \"appId:%s\\tcampaignId:%s\\t%s:%s\\texpected:%s\\tcalls:%s\" % (row['appId']\n",
    "                                                                              , row['campaignId']\n",
    "                                                                              , row['eventType']\n",
    "                                                                              , eventCount\n",
    "                                                                              , row['ExpectingAtLeast']\n",
    "                                                                              , numCalls)\n",
    "        print output\n",
    "\n",
    "        #runningCallCount = runningCallCount + numCalls\n",
    "        #totalEventCount = totalEventCount + eventCount\n",
    "\n",
    "    curs.execute(\"EXEC hs.FinalizeEvent ?\", eventType)\n",
    "\n",
    "    #print runningCallCount\n",
    "    #print totalEventCount"
   ]
  },
  {
   "cell_type": "markdown",
   "metadata": {},
   "source": [
    "## Step 1: Setup the Download Run\n",
    "I like to keep track of each run and when I did it"
   ]
  },
  {
   "cell_type": "code",
   "execution_count": null,
   "metadata": {
    "collapsed": false
   },
   "outputs": [],
   "source": [
    "curs.execute(\"INSERT INTO hs.DownloadRun(RunDate) VALUES(GETDATE())\")\n",
    "ident = curs.execute(\"SELECT SCOPE_IDENTITY()\").fetchone()[0]"
   ]
  },
  {
   "cell_type": "markdown",
   "metadata": {},
   "source": [
    "## Step 2: Get New Campaign Stats"
   ]
  },
  {
   "cell_type": "code",
   "execution_count": null,
   "metadata": {
    "collapsed": false
   },
   "outputs": [],
   "source": [
    "# Get All the campaign statistics\n",
    "numCalls, campaignStats = getAllCampaignsStatistics()\n",
    "\n",
    "runningCallCount = runningCallCount + numCalls\n",
    "\n",
    "# put them in database\n",
    "dictToDF(campaignStats).to_sql(name=\"CampaignStatistics\"\n",
    "                               , schema=\"hs\"\n",
    "                               , con=meta_engine\n",
    "                               , index=False\n",
    "                               , if_exists=\"replace\"\n",
    "                               , dtype=columnsCampaignStatistics)"
   ]
  },
  {
   "cell_type": "markdown",
   "metadata": {},
   "source": [
    "## Step 3: Loop through the events we want to capture and download"
   ]
  },
  {
   "cell_type": "code",
   "execution_count": null,
   "metadata": {
    "collapsed": false
   },
   "outputs": [],
   "source": [
    "# hs.DownloadableEventType stores the event Types I want\n",
    "sql = \"SELECT * FROM hs.DownloadableEventType\"\n",
    "eventList = pd.read_sql(sql, meta_engine)\n",
    "\n",
    "for index, row in eventList.iterrows():\n",
    "    getNewEvents(row['eventType'], ident)"
   ]
  },
  {
   "cell_type": "markdown",
   "metadata": {
    "collapsed": true
   },
   "source": [
    "## Step 4: Store Stats History\n",
    "Finalize the data"
   ]
  },
  {
   "cell_type": "code",
   "execution_count": null,
   "metadata": {
    "collapsed": false
   },
   "outputs": [],
   "source": [
    "df = dictToDF(campaignStats)\n",
    "df['RunID'] = ident\n",
    "\n",
    "df.to_sql(name=\"CampaignStatisticsHistory\"\n",
    "            , schema=\"hs\"\n",
    "            , con=meta_engine\n",
    "            , index=False\n",
    "            , if_exists=\"append\"\n",
    "            , dtype=columnsCampaignStatisticsHistory)"
   ]
  },
  {
   "cell_type": "code",
   "execution_count": null,
   "metadata": {
    "collapsed": true
   },
   "outputs": [],
   "source": []
  }
 ],
 "metadata": {
  "kernelspec": {
   "display_name": "Python 2",
   "language": "python",
   "name": "python2"
  },
  "language_info": {
   "codemirror_mode": {
    "name": "ipython",
    "version": 2
   },
   "file_extension": ".py",
   "mimetype": "text/x-python",
   "name": "python",
   "nbconvert_exporter": "python",
   "pygments_lexer": "ipython2",
   "version": "2.7.12"
  }
 },
 "nbformat": 4,
 "nbformat_minor": 1
}
