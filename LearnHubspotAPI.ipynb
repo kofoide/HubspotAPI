{
 "cells": [
  {
   "cell_type": "markdown",
   "metadata": {},
   "source": [
    "# Download Email Events from Hubspot API\n",
    "\n",
    "This app will download all email events from Hubspot API. It uses Campaign Statistics to decide what timeframe to begin downloading from.\n",
    "\n",
    "Resources:\n",
    "* MSSQL - Run DDL in the project against your database\n",
    "* Schema named \"hs\" in database\n",
    "\n",
    "Put the event types you want to download in the hs.DownloadableEventType table"
   ]
  },
  {
   "cell_type": "code",
   "execution_count": 1,
   "metadata": {
    "collapsed": false
   },
   "outputs": [],
   "source": [
    "import requests, json, time\n",
    "import pandas as pd\n",
    "import sqlalchemy\n",
    "import pyodbc as odbc\n",
    "\n",
    "import globvars\n",
    "import functions\n",
    "import campaigns\n",
    "import events\n",
    "import contacts\n",
    "\n",
    "runningcallcount = 0"
   ]
  },
  {
   "cell_type": "code",
   "execution_count": null,
   "metadata": {
    "collapsed": false
   },
   "outputs": [],
   "source": [
    "# SQLAlchemy Connection\n",
    "meta_engine = sqlalchemy.create_engine(globvars.dsnalchemy)\n",
    "\n",
    "# Test the connection\n",
    "connection = meta_engine.connect()\n",
    "result = connection.execute(\"SELECT @@ServerName ServerName, DB_NAME() AS DatabaseName, CURRENT_USER AS LoggedInAs\")\n",
    "for row in result:\n",
    "    print (row['ServerName'], row['DatabaseName'], row['LoggedInAs'])"
   ]
  },
  {
   "cell_type": "code",
   "execution_count": null,
   "metadata": {
    "collapsed": false
   },
   "outputs": [],
   "source": [
    "# PYODBC Connection\n",
    "conn = odbc.connect(globvars.dsnpyodbc, autocommit=True)\n",
    "curs = conn.cursor()\n",
    "curs.execute(\"SELECT @@ServerName AS ServerName, DB_NAME() AS DatabaseName, CURRENT_USER AS LoggedInAs\")\n",
    "print curs.fetchone()"
   ]
  },
  {
   "cell_type": "markdown",
   "metadata": {},
   "source": [
    "## Step 1: Setup the Download Run\n",
    "I like to keep track of each run and when I did it"
   ]
  },
  {
   "cell_type": "code",
   "execution_count": null,
   "metadata": {
    "collapsed": false
   },
   "outputs": [],
   "source": [
    "curs.execute(\"INSERT INTO hs.DownloadRun(RunDate) VALUES(GETDATE())\")\n",
    "ident = curs.execute(\"SELECT SCOPE_IDENTITY()\").fetchone()[0]"
   ]
  },
  {
   "cell_type": "markdown",
   "metadata": {},
   "source": [
    "## Step 2: Get Campaign Stats"
   ]
  },
  {
   "cell_type": "code",
   "execution_count": null,
   "metadata": {
    "collapsed": false
   },
   "outputs": [],
   "source": [
    "# Get All the campaign statistics\n",
    "numCalls = campaigns.get_all_campaignstats(noisy=True)\n",
    "\n",
    "runningcallcount = runningcallcount + numCalls"
   ]
  },
  {
   "cell_type": "markdown",
   "metadata": {},
   "source": [
    "## Step 3: Loop through the events we want to capture and download"
   ]
  },
  {
   "cell_type": "code",
   "execution_count": 5,
   "metadata": {
    "collapsed": false
   },
   "outputs": [
    {
     "name": "stdout",
     "output_type": "stream",
     "text": [
      "appId:113\tcampaignId:46169860\topen:0\texpected:0\tcalls:1\n",
      "appId:113\tcampaignId:46169860\tclick:0\texpected:0\tcalls:1\n",
      "appId:113\tcampaignId:46169860\tspamreport:0\texpected:0\tcalls:1\n",
      "appId:113\tcampaignId:46169860\tbounce:0\texpected:-11\tcalls:1\n",
      "appId:113\tcampaignId:46169860\tdeferred:0\texpected:0\tcalls:1\n",
      "appId:113\tcampaignId:46169860\tdelivered:0\texpected:-2\tcalls:1\n",
      "appId:113\tcampaignId:46169860\tdropped:0\texpected:-1499\tcalls:1\n",
      "appId:113\tcampaignId:46169860\tforward:0\texpected:0\tcalls:1\n",
      "appId:113\tcampaignId:46169860\tprint:0\texpected:-1\tcalls:1\n",
      "appId:113\tcampaignId:46169860\tprocessed:0\texpected:0\tcalls:1\n",
      "appId:113\tcampaignId:46169860\tsent:0\texpected:-28\tcalls:1\n",
      "appId:113\tcampaignId:46169860\tstatuschange:0\texpected:0\tcalls:1\n"
     ]
    }
   ],
   "source": [
    "events.get_campaign_allevents(113, 46169860, 1)"
   ]
  },
  {
   "cell_type": "markdown",
   "metadata": {
    "collapsed": true
   },
   "source": [
    "## Step 4: Store Stats History\n",
    "Finalize the data"
   ]
  },
  {
   "cell_type": "code",
   "execution_count": null,
   "metadata": {
    "collapsed": false
   },
   "outputs": [],
   "source": [
    "df = dictToDF(campaignStats)\n",
    "df['RunID'] = ident\n",
    "\n",
    "df.to_sql(name=\"CampaignStatisticsHistory\"\n",
    "            , schema=\"hs\"\n",
    "            , con=meta_engine\n",
    "            , index=False\n",
    "            , if_exists=\"append\"\n",
    "            , dtype=globvars.COLUMNSCAMPAIGNSTATISTICSHISTORY)"
   ]
  },
  {
   "cell_type": "code",
   "execution_count": null,
   "metadata": {
    "collapsed": true
   },
   "outputs": [],
   "source": []
  }
 ],
 "metadata": {
  "kernelspec": {
   "display_name": "Python 2",
   "language": "python",
   "name": "python2"
  },
  "language_info": {
   "codemirror_mode": {
    "name": "ipython",
    "version": 2
   },
   "file_extension": ".py",
   "mimetype": "text/x-python",
   "name": "python",
   "nbconvert_exporter": "python",
   "pygments_lexer": "ipython2",
   "version": "2.7.12"
  }
 },
 "nbformat": 4,
 "nbformat_minor": 1
}
