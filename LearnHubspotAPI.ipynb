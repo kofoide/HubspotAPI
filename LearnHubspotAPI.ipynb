{
 "cells": [
  {
   "cell_type": "markdown",
   "metadata": {},
   "source": [
    "# Download Email Events from Hubspot API\n",
    "\n",
    "This app will download all email events from Hubspot API. It uses Campaign Statistics to decide what timeframe to begin downloading from.\n",
    "\n",
    "Resources:\n",
    "* MSSQL - Run DDL in the project against your database\n",
    "* Schema named \"hs\" in database\n",
    "\n",
    "Put the event types you want to download in the hs.DownloadableEventType table"
   ]
  },
  {
   "cell_type": "code",
   "execution_count": 1,
   "metadata": {
    "collapsed": false
   },
   "outputs": [],
   "source": [
    "import requests, json, time\n",
    "import pandas as pd\n",
    "import sqlalchemy\n",
    "import pyodbc as odbc\n",
    "\n",
    "import os\n",
    "import configparser, json\n",
    "\n",
    "import globvars\n",
    "import functions\n",
    "import campaigns\n",
    "import events\n",
    "import contacts"
   ]
  },
  {
   "cell_type": "code",
   "execution_count": 2,
   "metadata": {
    "collapsed": false
   },
   "outputs": [],
   "source": [
    "parser = configparser.ConfigParser()\n",
    "\n",
    "if os.name == \"posix\":\n",
    "    parser.read(u'../config.ini')\n",
    "else:\n",
    "    parser.read(u\"..\\config.ini\")"
   ]
  },
  {
   "cell_type": "code",
   "execution_count": 3,
   "metadata": {
    "collapsed": false
   },
   "outputs": [],
   "source": [
    "key =  parser.get('Hubspot', 'APIKEY')\n",
    "apikey = \"?hapikey=\" + key\n",
    "limit = \"&limit=1000\"\n",
    "firstparm = apikey + limit\n",
    "baseurl = \"https://api.hubapi.com\"\n",
    "runningcallcount = 0"
   ]
  },
  {
   "cell_type": "code",
   "execution_count": 4,
   "metadata": {
    "collapsed": false
   },
   "outputs": [
    {
     "name": "stdout",
     "output_type": "stream",
     "text": [
      "(u'DESKTOP-R5USRDR', u'Hubspot', u'mac')\n"
     ]
    }
   ],
   "source": [
    "# SQLAlchemy Connection\n",
    "meta_engine = sqlalchemy.create_engine(parser.get('Database', 'HubspotSqlAlc'))\n",
    "\n",
    "# Test the connection\n",
    "connection = meta_engine.connect()\n",
    "result = connection.execute(\"SELECT @@ServerName ServerName, DB_NAME() AS DatabaseName, CURRENT_USER AS LoggedInAs\")\n",
    "for row in result:\n",
    "    print (row['ServerName'], row['DatabaseName'], row['LoggedInAs'])"
   ]
  },
  {
   "cell_type": "code",
   "execution_count": 5,
   "metadata": {
    "collapsed": false
   },
   "outputs": [
    {
     "name": "stdout",
     "output_type": "stream",
     "text": [
      "(u'DESKTOP-R5USRDR', u'Hubspot', u'mac')\n"
     ]
    }
   ],
   "source": [
    "# PYODBC Connection\n",
    "conn = odbc.connect(parser.get('Database', 'HubspotPy'), autocommit=True)\n",
    "curs = conn.cursor()\n",
    "curs.execute(\"SELECT @@ServerName AS ServerName, DB_NAME() AS DatabaseName, CURRENT_USER AS LoggedInAs\")\n",
    "print curs.fetchone()"
   ]
  },
  {
   "cell_type": "markdown",
   "metadata": {},
   "source": [
    "## Step 1: Setup the Download Run\n",
    "I like to keep track of each run and when I did it"
   ]
  },
  {
   "cell_type": "code",
   "execution_count": 6,
   "metadata": {
    "collapsed": false
   },
   "outputs": [],
   "source": [
    "curs.execute(\"INSERT INTO hs.DownloadRun(RunDate) VALUES(GETDATE())\")\n",
    "ident = curs.execute(\"SELECT SCOPE_IDENTITY()\").fetchone()[0]"
   ]
  },
  {
   "cell_type": "markdown",
   "metadata": {},
   "source": [
    "## Step 2: Get New Campaign Stats"
   ]
  },
  {
   "cell_type": "code",
   "execution_count": 7,
   "metadata": {
    "collapsed": false
   },
   "outputs": [
    {
     "name": "stdout",
     "output_type": "stream",
     "text": [
      "https://api.hubapi.com/email/public/v1/campaigns/by-id?hapikey=9bd03e6c-40a3-43f8-90b4-6e010f52a945&limit=1000\n",
      "dumping file\n",
      "Campaign List Call Count: 1\n",
      "Number of Campaigns: 292\n"
     ]
    }
   ],
   "source": [
    "# Get All the campaign statistics\n",
    "numCalls, campaignStats = campaigns.get_all_campaignsstats(baseurl, apikey, firstparm, noisy=True)\n",
    "\n",
    "runningcallcount = runningcallcount + numCalls\n",
    "\n",
    "# put them in database\n",
    "pd.DataFrame.from_dict(campaignStats, orient='columns', dtype=None).to_sql(name=\"CampaignStatistics\"\n",
    "                               , schema=\"hs\"\n",
    "                               , con=meta_engine\n",
    "                               , index=False\n",
    "                               , if_exists=\"replace\"\n",
    "                               , dtype=globvars.COLUMNSCAMPAIGNSTATISTICS)"
   ]
  },
  {
   "cell_type": "markdown",
   "metadata": {},
   "source": [
    "## Step 3: Loop through the events we want to capture and download"
   ]
  },
  {
   "cell_type": "code",
   "execution_count": null,
   "metadata": {
    "collapsed": false
   },
   "outputs": [],
   "source": [
    "# hs.DownloadableEventType stores the event Types I want\n",
    "sql = \"SELECT * FROM hs.DownloadableEventType\"\n",
    "eventList = pd.read_sql(sql, meta_engine)\n",
    "\n",
    "for index, row in eventList.iterrows():\n",
    "    events.get_new_events(baseurl, firstparm, curs, meta_engine, row['eventType'], ident)"
   ]
  },
  {
   "cell_type": "markdown",
   "metadata": {
    "collapsed": true
   },
   "source": [
    "## Step 4: Store Stats History\n",
    "Finalize the data"
   ]
  },
  {
   "cell_type": "code",
   "execution_count": null,
   "metadata": {
    "collapsed": false
   },
   "outputs": [],
   "source": [
    "df = dictToDF(campaignStats)\n",
    "df['RunID'] = ident\n",
    "\n",
    "df.to_sql(name=\"CampaignStatisticsHistory\"\n",
    "            , schema=\"hs\"\n",
    "            , con=meta_engine\n",
    "            , index=False\n",
    "            , if_exists=\"append\"\n",
    "            , dtype=globvars.COLUMNSCAMPAIGNSTATISTICSHISTORY)"
   ]
  },
  {
   "cell_type": "code",
   "execution_count": null,
   "metadata": {
    "collapsed": true
   },
   "outputs": [],
   "source": []
  }
 ],
 "metadata": {
  "kernelspec": {
   "display_name": "Python 2",
   "language": "python",
   "name": "python2"
  },
  "language_info": {
   "codemirror_mode": {
    "name": "ipython",
    "version": 2
   },
   "file_extension": ".py",
   "mimetype": "text/x-python",
   "name": "python",
   "nbconvert_exporter": "python",
   "pygments_lexer": "ipython2",
   "version": "2.7.13"
  }
 },
 "nbformat": 4,
 "nbformat_minor": 1
}
